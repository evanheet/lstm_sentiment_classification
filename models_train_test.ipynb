{
 "cells": [
  {
   "cell_type": "markdown",
   "metadata": {},
   "source": [
    "# NLP Assignment #3: Text Classification\n",
    "\n",
    "### Evan James Heetderks / 高修杰 / 2019280025 "
   ]
  },
  {
   "cell_type": "code",
   "execution_count": 1,
   "metadata": {},
   "outputs": [],
   "source": [
    "from model import Architecture\n",
    "from train import Trainer\n",
    "from test import Tester"
   ]
  },
  {
   "cell_type": "markdown",
   "metadata": {},
   "source": [
    "Implemented bi-directional LTSM networks with different combinations of dropout (none or 0.2), hidden units (256 or 512), and hidden layers (1 or 2) per assignment guidelines"
   ]
  },
  {
   "cell_type": "markdown",
   "metadata": {},
   "source": [
    "### Model 1: No dropout, 256 units, 1 layer"
   ]
  },
  {
   "cell_type": "code",
   "execution_count": 2,
   "metadata": {},
   "outputs": [],
   "source": [
    "model_1 = Architecture(root='trees', \n",
    "                       train='train.txt', \n",
    "                       validation='dev.txt', \n",
    "                       test='test.txt',\n",
    "                       embeddings='glove.6B.300d.txt', \n",
    "                       hidden_dim=256, \n",
    "                       hidden_layers=1, \n",
    "                       output_dim=5, \n",
    "                       dropout=0)"
   ]
  },
  {
   "cell_type": "code",
   "execution_count": 3,
   "metadata": {},
   "outputs": [
    {
     "name": "stdout",
     "output_type": "stream",
     "text": [
      "Epoch [1/7], Step [20/134], Loss: 1.0868, Accuracy: 0.4062\n",
      "Epoch [1/7], Step [40/134], Loss: 1.0629, Accuracy: 0.4844\n",
      "Epoch [1/7], Step [60/134], Loss: 1.0562, Accuracy: 0.4062\n",
      "Epoch [1/7], Step [80/134], Loss: 1.0808, Accuracy: 0.3594\n",
      "Epoch [1/7], Step [100/134], Loss: 1.0401, Accuracy: 0.4375\n",
      "Epoch [1/7], Step [120/134], Loss: 1.0253, Accuracy: 0.4688\n",
      "**********************************************************************************************************\n",
      "VALIDATION FOR EPOCH 1/7 --> Average Loss: 1.0525, Average Accuracy: 0.4910\n",
      "**********************************************************************************************************\n",
      "Epoch [2/7], Step [20/134], Loss: 1.1223, Accuracy: 0.3594\n",
      "Epoch [2/7], Step [40/134], Loss: 1.0350, Accuracy: 0.4688\n",
      "Epoch [2/7], Step [60/134], Loss: 0.9782, Accuracy: 0.5000\n",
      "Epoch [2/7], Step [80/134], Loss: 1.1098, Accuracy: 0.5000\n",
      "Epoch [2/7], Step [100/134], Loss: 1.0127, Accuracy: 0.4219\n",
      "Epoch [2/7], Step [120/134], Loss: 1.1095, Accuracy: 0.3438\n",
      "**********************************************************************************************************\n",
      "VALIDATION FOR EPOCH 2/7 --> Average Loss: 1.0881, Average Accuracy: 0.3877\n",
      "**********************************************************************************************************\n",
      "Epoch [3/7], Step [20/134], Loss: 1.0132, Accuracy: 0.4375\n",
      "Epoch [3/7], Step [40/134], Loss: 1.0165, Accuracy: 0.4688\n",
      "Epoch [3/7], Step [60/134], Loss: 1.0697, Accuracy: 0.2969\n",
      "Epoch [3/7], Step [80/134], Loss: 1.0377, Accuracy: 0.4844\n",
      "Epoch [3/7], Step [100/134], Loss: 1.0039, Accuracy: 0.4688\n",
      "Epoch [3/7], Step [120/134], Loss: 1.0559, Accuracy: 0.4062\n",
      "**********************************************************************************************************\n",
      "VALIDATION FOR EPOCH 3/7 --> Average Loss: 1.0488, Average Accuracy: 0.4015\n",
      "**********************************************************************************************************\n",
      "Epoch [4/7], Step [20/134], Loss: 1.0269, Accuracy: 0.5156\n",
      "Epoch [4/7], Step [40/134], Loss: 1.0791, Accuracy: 0.3906\n",
      "Epoch [4/7], Step [60/134], Loss: 0.9839, Accuracy: 0.4375\n",
      "Epoch [4/7], Step [80/134], Loss: 1.0774, Accuracy: 0.4062\n",
      "Epoch [4/7], Step [100/134], Loss: 1.1044, Accuracy: 0.3906\n",
      "Epoch [4/7], Step [120/134], Loss: 1.0527, Accuracy: 0.4844\n",
      "**********************************************************************************************************\n",
      "VALIDATION FOR EPOCH 4/7 --> Average Loss: 1.0602, Average Accuracy: 0.4032\n",
      "**********************************************************************************************************\n",
      "Epoch [5/7], Step [20/134], Loss: 1.1424, Accuracy: 0.2969\n",
      "Epoch [5/7], Step [40/134], Loss: 1.0454, Accuracy: 0.4219\n",
      "Epoch [5/7], Step [60/134], Loss: 1.1099, Accuracy: 0.4062\n",
      "Epoch [5/7], Step [80/134], Loss: 1.0956, Accuracy: 0.3750\n",
      "Epoch [5/7], Step [100/134], Loss: 1.0907, Accuracy: 0.3750\n",
      "Epoch [5/7], Step [120/134], Loss: 1.1134, Accuracy: 0.3750\n",
      "**********************************************************************************************************\n",
      "VALIDATION FOR EPOCH 5/7 --> Average Loss: 1.0630, Average Accuracy: 0.4032\n",
      "**********************************************************************************************************\n",
      "Epoch [6/7], Step [20/134], Loss: 1.0580, Accuracy: 0.3906\n",
      "Epoch [6/7], Step [40/134], Loss: 1.0893, Accuracy: 0.3594\n",
      "Epoch [6/7], Step [60/134], Loss: 1.1074, Accuracy: 0.4062\n",
      "Epoch [6/7], Step [80/134], Loss: 1.1228, Accuracy: 0.3594\n",
      "Epoch [6/7], Step [100/134], Loss: 1.0783, Accuracy: 0.3438\n",
      "Epoch [6/7], Step [120/134], Loss: 1.0359, Accuracy: 0.4688\n",
      "**********************************************************************************************************\n",
      "VALIDATION FOR EPOCH 6/7 --> Average Loss: 1.0552, Average Accuracy: 0.3998\n",
      "**********************************************************************************************************\n",
      "Epoch [7/7], Step [20/134], Loss: 1.0323, Accuracy: 0.4688\n",
      "Epoch [7/7], Step [40/134], Loss: 1.0408, Accuracy: 0.5156\n",
      "Epoch [7/7], Step [60/134], Loss: 1.0417, Accuracy: 0.4375\n",
      "Epoch [7/7], Step [80/134], Loss: 1.0789, Accuracy: 0.5156\n",
      "Epoch [7/7], Step [100/134], Loss: 1.0172, Accuracy: 0.4688\n",
      "Epoch [7/7], Step [120/134], Loss: 1.0134, Accuracy: 0.5312\n",
      "**********************************************************************************************************\n",
      "VALIDATION FOR EPOCH 7/7 --> Average Loss: 0.9495, Average Accuracy: 0.5836\n",
      "**********************************************************************************************************\n"
     ]
    }
   ],
   "source": [
    "model_1_trained = Trainer(model=model_1, \n",
    "                        num_epochs=7, \n",
    "                        learning_rate=0.001)\n",
    "model_1_trained.train()"
   ]
  },
  {
   "cell_type": "code",
   "execution_count": 4,
   "metadata": {},
   "outputs": [
    {
     "name": "stdout",
     "output_type": "stream",
     "text": [
      "Average testing loss: 0.9117, Average testing accuracy: 61.28%\n"
     ]
    }
   ],
   "source": [
    "tester = Tester(model_1_trained.copyModel())"
   ]
  },
  {
   "cell_type": "markdown",
   "metadata": {},
   "source": [
    "### Model 2: 0.2 dropout, 256 units, 1 layer"
   ]
  },
  {
   "cell_type": "code",
   "execution_count": 6,
   "metadata": {},
   "outputs": [],
   "source": [
    "model_2 = Architecture(root='trees', \n",
    "                       train='train.txt', \n",
    "                       validation='dev.txt', \n",
    "                       test='test.txt',\n",
    "                       embeddings='glove.6B.300d.txt', \n",
    "                       hidden_dim=256, \n",
    "                       hidden_layers=1, \n",
    "                       output_dim=5, \n",
    "                       dropout=0.2)"
   ]
  },
  {
   "cell_type": "code",
   "execution_count": 7,
   "metadata": {},
   "outputs": [
    {
     "name": "stdout",
     "output_type": "stream",
     "text": [
      "Epoch [1/7], Step [20/134], Loss: 1.0821, Accuracy: 0.3906\n",
      "Epoch [1/7], Step [40/134], Loss: 1.0574, Accuracy: 0.4531\n",
      "Epoch [1/7], Step [60/134], Loss: 1.0533, Accuracy: 0.4062\n",
      "Epoch [1/7], Step [80/134], Loss: 1.0819, Accuracy: 0.3594\n",
      "Epoch [1/7], Step [100/134], Loss: 1.0440, Accuracy: 0.4844\n",
      "Epoch [1/7], Step [120/134], Loss: 1.0161, Accuracy: 0.4531\n",
      "**********************************************************************************************************\n",
      "VALIDATION FOR EPOCH 1/7 --> Average Loss: 1.0479, Average Accuracy: 0.4910\n",
      "**********************************************************************************************************\n",
      "Epoch [2/7], Step [20/134], Loss: 1.1081, Accuracy: 0.3594\n",
      "Epoch [2/7], Step [40/134], Loss: 1.0461, Accuracy: 0.4375\n",
      "Epoch [2/7], Step [60/134], Loss: 0.9899, Accuracy: 0.5000\n",
      "Epoch [2/7], Step [80/134], Loss: 1.1162, Accuracy: 0.4219\n",
      "Epoch [2/7], Step [100/134], Loss: 1.0165, Accuracy: 0.3438\n",
      "Epoch [2/7], Step [120/134], Loss: 1.1083, Accuracy: 0.3438\n",
      "**********************************************************************************************************\n",
      "VALIDATION FOR EPOCH 2/7 --> Average Loss: 1.0855, Average Accuracy: 0.3886\n",
      "**********************************************************************************************************\n",
      "Epoch [3/7], Step [20/134], Loss: 1.0063, Accuracy: 0.4688\n",
      "Epoch [3/7], Step [40/134], Loss: 1.0096, Accuracy: 0.4688\n",
      "Epoch [3/7], Step [60/134], Loss: 1.0750, Accuracy: 0.3281\n",
      "Epoch [3/7], Step [80/134], Loss: 1.0360, Accuracy: 0.4688\n",
      "Epoch [3/7], Step [100/134], Loss: 1.0000, Accuracy: 0.5156\n",
      "Epoch [3/7], Step [120/134], Loss: 1.0565, Accuracy: 0.3906\n",
      "**********************************************************************************************************\n",
      "VALIDATION FOR EPOCH 3/7 --> Average Loss: 1.0449, Average Accuracy: 0.3998\n",
      "**********************************************************************************************************\n",
      "Epoch [4/7], Step [20/134], Loss: 1.0303, Accuracy: 0.5156\n",
      "Epoch [4/7], Step [40/134], Loss: 1.0871, Accuracy: 0.3438\n",
      "Epoch [4/7], Step [60/134], Loss: 0.9887, Accuracy: 0.4375\n",
      "Epoch [4/7], Step [80/134], Loss: 1.0749, Accuracy: 0.4219\n",
      "Epoch [4/7], Step [100/134], Loss: 1.1100, Accuracy: 0.3594\n",
      "Epoch [4/7], Step [120/134], Loss: 1.0585, Accuracy: 0.4688\n",
      "**********************************************************************************************************\n",
      "VALIDATION FOR EPOCH 4/7 --> Average Loss: 1.0606, Average Accuracy: 0.3998\n",
      "**********************************************************************************************************\n",
      "Epoch [5/7], Step [20/134], Loss: 1.1437, Accuracy: 0.2812\n",
      "Epoch [5/7], Step [40/134], Loss: 1.0505, Accuracy: 0.4219\n",
      "Epoch [5/7], Step [60/134], Loss: 1.1137, Accuracy: 0.3438\n",
      "Epoch [5/7], Step [80/134], Loss: 1.0950, Accuracy: 0.3750\n",
      "Epoch [5/7], Step [100/134], Loss: 1.0893, Accuracy: 0.3594\n",
      "Epoch [5/7], Step [120/134], Loss: 1.1175, Accuracy: 0.3750\n",
      "**********************************************************************************************************\n",
      "VALIDATION FOR EPOCH 5/7 --> Average Loss: 1.0628, Average Accuracy: 0.3989\n",
      "**********************************************************************************************************\n",
      "Epoch [6/7], Step [20/134], Loss: 1.0636, Accuracy: 0.3438\n",
      "Epoch [6/7], Step [40/134], Loss: 1.0954, Accuracy: 0.3594\n",
      "Epoch [6/7], Step [60/134], Loss: 1.1083, Accuracy: 0.4219\n",
      "Epoch [6/7], Step [80/134], Loss: 1.1129, Accuracy: 0.3594\n",
      "Epoch [6/7], Step [100/134], Loss: 1.0798, Accuracy: 0.2969\n",
      "Epoch [6/7], Step [120/134], Loss: 1.0319, Accuracy: 0.3750\n",
      "**********************************************************************************************************\n",
      "VALIDATION FOR EPOCH 6/7 --> Average Loss: 1.0583, Average Accuracy: 0.3998\n",
      "**********************************************************************************************************\n",
      "Epoch [7/7], Step [20/134], Loss: 1.0410, Accuracy: 0.4062\n",
      "Epoch [7/7], Step [40/134], Loss: 1.0448, Accuracy: 0.5000\n",
      "Epoch [7/7], Step [60/134], Loss: 1.0438, Accuracy: 0.4688\n",
      "Epoch [7/7], Step [80/134], Loss: 1.0858, Accuracy: 0.5156\n",
      "Epoch [7/7], Step [100/134], Loss: 0.9960, Accuracy: 0.4688\n",
      "Epoch [7/7], Step [120/134], Loss: 1.0998, Accuracy: 0.5000\n",
      "**********************************************************************************************************\n",
      "VALIDATION FOR EPOCH 7/7 --> Average Loss: 0.9584, Average Accuracy: 0.5584\n",
      "**********************************************************************************************************\n"
     ]
    }
   ],
   "source": [
    "model_2_trained = Trainer(model=model_2, \n",
    "                        num_epochs=7, \n",
    "                        learning_rate=0.001)\n",
    "model_2_trained.train()"
   ]
  },
  {
   "cell_type": "code",
   "execution_count": 8,
   "metadata": {},
   "outputs": [
    {
     "name": "stdout",
     "output_type": "stream",
     "text": [
      "Average testing loss: 0.9311, Average testing accuracy: 58.50%\n"
     ]
    }
   ],
   "source": [
    "tester2 = Tester(model_2_trained.copyModel())"
   ]
  },
  {
   "cell_type": "markdown",
   "metadata": {},
   "source": [
    "### Model 3: No dropout, 512 units, 1 layer"
   ]
  },
  {
   "cell_type": "code",
   "execution_count": 9,
   "metadata": {},
   "outputs": [],
   "source": [
    "model_3 = Architecture(root='trees', \n",
    "                       train='train.txt', \n",
    "                       validation='dev.txt', \n",
    "                       test='test.txt',\n",
    "                       embeddings='glove.6B.300d.txt', \n",
    "                       hidden_dim=512, \n",
    "                       hidden_layers=1, \n",
    "                       output_dim=5, \n",
    "                       dropout=0)"
   ]
  },
  {
   "cell_type": "code",
   "execution_count": 10,
   "metadata": {},
   "outputs": [
    {
     "name": "stdout",
     "output_type": "stream",
     "text": [
      "Epoch [1/7], Step [20/134], Loss: 1.0528, Accuracy: 0.4062\n",
      "Epoch [1/7], Step [40/134], Loss: 1.0683, Accuracy: 0.4844\n",
      "Epoch [1/7], Step [60/134], Loss: 1.0558, Accuracy: 0.4062\n",
      "Epoch [1/7], Step [80/134], Loss: 1.0806, Accuracy: 0.4219\n",
      "Epoch [1/7], Step [100/134], Loss: 1.0402, Accuracy: 0.3750\n",
      "Epoch [1/7], Step [120/134], Loss: 1.0284, Accuracy: 0.3906\n",
      "**********************************************************************************************************\n",
      "VALIDATION FOR EPOCH 1/7 --> Average Loss: 1.0540, Average Accuracy: 0.4910\n",
      "**********************************************************************************************************\n",
      "Epoch [2/7], Step [20/134], Loss: 1.1251, Accuracy: 0.3594\n",
      "Epoch [2/7], Step [40/134], Loss: 1.0372, Accuracy: 0.4688\n",
      "Epoch [2/7], Step [60/134], Loss: 0.9816, Accuracy: 0.5000\n",
      "Epoch [2/7], Step [80/134], Loss: 1.1094, Accuracy: 0.5000\n",
      "Epoch [2/7], Step [100/134], Loss: 1.0101, Accuracy: 0.4219\n",
      "Epoch [2/7], Step [120/134], Loss: 1.1096, Accuracy: 0.3438\n",
      "**********************************************************************************************************\n",
      "VALIDATION FOR EPOCH 2/7 --> Average Loss: 1.0868, Average Accuracy: 0.3877\n",
      "**********************************************************************************************************\n",
      "Epoch [3/7], Step [20/134], Loss: 1.0102, Accuracy: 0.4375\n",
      "Epoch [3/7], Step [40/134], Loss: 1.0189, Accuracy: 0.4688\n",
      "Epoch [3/7], Step [60/134], Loss: 1.0675, Accuracy: 0.4375\n",
      "Epoch [3/7], Step [80/134], Loss: 1.0393, Accuracy: 0.4844\n",
      "Epoch [3/7], Step [100/134], Loss: 1.0025, Accuracy: 0.4688\n",
      "Epoch [3/7], Step [120/134], Loss: 1.0567, Accuracy: 0.4062\n",
      "**********************************************************************************************************\n",
      "VALIDATION FOR EPOCH 3/7 --> Average Loss: 1.0495, Average Accuracy: 0.4024\n",
      "**********************************************************************************************************\n",
      "Epoch [4/7], Step [20/134], Loss: 1.0250, Accuracy: 0.5156\n",
      "Epoch [4/7], Step [40/134], Loss: 1.0788, Accuracy: 0.3906\n",
      "Epoch [4/7], Step [60/134], Loss: 0.9842, Accuracy: 0.4375\n",
      "Epoch [4/7], Step [80/134], Loss: 1.0770, Accuracy: 0.4062\n",
      "Epoch [4/7], Step [100/134], Loss: 1.1047, Accuracy: 0.3906\n",
      "Epoch [4/7], Step [120/134], Loss: 1.0520, Accuracy: 0.4844\n",
      "**********************************************************************************************************\n",
      "VALIDATION FOR EPOCH 4/7 --> Average Loss: 1.0644, Average Accuracy: 0.4024\n",
      "**********************************************************************************************************\n",
      "Epoch [5/7], Step [20/134], Loss: 1.1423, Accuracy: 0.2969\n",
      "Epoch [5/7], Step [40/134], Loss: 1.0462, Accuracy: 0.4219\n",
      "Epoch [5/7], Step [60/134], Loss: 1.1122, Accuracy: 0.4062\n",
      "Epoch [5/7], Step [80/134], Loss: 1.0933, Accuracy: 0.3750\n",
      "Epoch [5/7], Step [100/134], Loss: 1.0913, Accuracy: 0.3750\n",
      "Epoch [5/7], Step [120/134], Loss: 1.1118, Accuracy: 0.3750\n",
      "**********************************************************************************************************\n",
      "VALIDATION FOR EPOCH 5/7 --> Average Loss: 1.0693, Average Accuracy: 0.4024\n",
      "**********************************************************************************************************\n",
      "Epoch [6/7], Step [20/134], Loss: 1.0573, Accuracy: 0.3906\n",
      "Epoch [6/7], Step [40/134], Loss: 1.0891, Accuracy: 0.3594\n",
      "Epoch [6/7], Step [60/134], Loss: 1.1044, Accuracy: 0.4062\n",
      "Epoch [6/7], Step [80/134], Loss: 1.1258, Accuracy: 0.3594\n",
      "Epoch [6/7], Step [100/134], Loss: 1.0787, Accuracy: 0.3438\n",
      "Epoch [6/7], Step [120/134], Loss: 1.0377, Accuracy: 0.3750\n",
      "**********************************************************************************************************\n",
      "VALIDATION FOR EPOCH 6/7 --> Average Loss: 1.0612, Average Accuracy: 0.4006\n",
      "**********************************************************************************************************\n",
      "Epoch [7/7], Step [20/134], Loss: 1.0316, Accuracy: 0.4688\n",
      "Epoch [7/7], Step [40/134], Loss: 1.0374, Accuracy: 0.5156\n",
      "Epoch [7/7], Step [60/134], Loss: 1.0374, Accuracy: 0.5000\n",
      "Epoch [7/7], Step [80/134], Loss: 1.1426, Accuracy: 0.2344\n",
      "Epoch [7/7], Step [100/134], Loss: 0.9180, Accuracy: 0.6094\n",
      "Epoch [7/7], Step [120/134], Loss: 0.9957, Accuracy: 0.4375\n",
      "**********************************************************************************************************\n",
      "VALIDATION FOR EPOCH 7/7 --> Average Loss: 0.9677, Average Accuracy: 0.5733\n",
      "**********************************************************************************************************\n"
     ]
    }
   ],
   "source": [
    "model_3_trained = Trainer(model=model_3, \n",
    "                        num_epochs=7, \n",
    "                        learning_rate=0.001)\n",
    "model_3_trained.train()"
   ]
  },
  {
   "cell_type": "code",
   "execution_count": 11,
   "metadata": {},
   "outputs": [
    {
     "name": "stdout",
     "output_type": "stream",
     "text": [
      "Average testing loss: 0.9284, Average testing accuracy: 59.40%\n"
     ]
    }
   ],
   "source": [
    "tester3 = Tester(model_3_trained.copyModel())"
   ]
  },
  {
   "cell_type": "markdown",
   "metadata": {},
   "source": [
    "### Model 4: 0.2 dropout, 512 units, 1 layer"
   ]
  },
  {
   "cell_type": "code",
   "execution_count": 12,
   "metadata": {},
   "outputs": [],
   "source": [
    "model_4 = Architecture(root='trees', \n",
    "                       train='train.txt', \n",
    "                       validation='dev.txt', \n",
    "                       test='test.txt',\n",
    "                       embeddings='glove.6B.300d.txt', \n",
    "                       hidden_dim=512, \n",
    "                       hidden_layers=1, \n",
    "                       output_dim=5, \n",
    "                       dropout=0.2)"
   ]
  },
  {
   "cell_type": "code",
   "execution_count": 13,
   "metadata": {},
   "outputs": [
    {
     "name": "stdout",
     "output_type": "stream",
     "text": [
      "Epoch [1/7], Step [20/134], Loss: 1.0470, Accuracy: 0.5156\n",
      "Epoch [1/7], Step [40/134], Loss: 1.0474, Accuracy: 0.3750\n",
      "Epoch [1/7], Step [60/134], Loss: 1.0480, Accuracy: 0.4219\n",
      "Epoch [1/7], Step [80/134], Loss: 1.0851, Accuracy: 0.4219\n",
      "Epoch [1/7], Step [100/134], Loss: 1.0570, Accuracy: 0.3281\n",
      "Epoch [1/7], Step [120/134], Loss: 1.0383, Accuracy: 0.3438\n",
      "**********************************************************************************************************\n",
      "VALIDATION FOR EPOCH 1/7 --> Average Loss: 1.0570, Average Accuracy: 0.4901\n",
      "**********************************************************************************************************\n",
      "Epoch [2/7], Step [20/134], Loss: 1.1168, Accuracy: 0.3594\n",
      "Epoch [2/7], Step [40/134], Loss: 1.0519, Accuracy: 0.4688\n",
      "Epoch [2/7], Step [60/134], Loss: 0.9994, Accuracy: 0.5000\n",
      "Epoch [2/7], Step [80/134], Loss: 1.1003, Accuracy: 0.4688\n",
      "Epoch [2/7], Step [100/134], Loss: 0.9886, Accuracy: 0.5625\n",
      "Epoch [2/7], Step [120/134], Loss: 1.1172, Accuracy: 0.3438\n",
      "**********************************************************************************************************\n",
      "VALIDATION FOR EPOCH 2/7 --> Average Loss: 1.0937, Average Accuracy: 0.3868\n",
      "**********************************************************************************************************\n",
      "Epoch [3/7], Step [20/134], Loss: 1.0190, Accuracy: 0.3906\n",
      "Epoch [3/7], Step [40/134], Loss: 1.0247, Accuracy: 0.4688\n",
      "Epoch [3/7], Step [60/134], Loss: 1.0660, Accuracy: 0.4219\n",
      "Epoch [3/7], Step [80/134], Loss: 1.0393, Accuracy: 0.4531\n",
      "Epoch [3/7], Step [100/134], Loss: 0.9978, Accuracy: 0.5469\n",
      "Epoch [3/7], Step [120/134], Loss: 1.0614, Accuracy: 0.4219\n",
      "**********************************************************************************************************\n",
      "VALIDATION FOR EPOCH 3/7 --> Average Loss: 1.0609, Average Accuracy: 0.4015\n",
      "**********************************************************************************************************\n",
      "Epoch [4/7], Step [20/134], Loss: 1.0272, Accuracy: 0.5156\n",
      "Epoch [4/7], Step [40/134], Loss: 1.0723, Accuracy: 0.4062\n",
      "Epoch [4/7], Step [60/134], Loss: 0.9901, Accuracy: 0.4219\n",
      "Epoch [4/7], Step [80/134], Loss: 1.0818, Accuracy: 0.4062\n",
      "Epoch [4/7], Step [100/134], Loss: 1.1079, Accuracy: 0.3438\n",
      "Epoch [4/7], Step [120/134], Loss: 1.0520, Accuracy: 0.5000\n",
      "**********************************************************************************************************\n",
      "VALIDATION FOR EPOCH 4/7 --> Average Loss: 1.0716, Average Accuracy: 0.4024\n",
      "**********************************************************************************************************\n",
      "Epoch [5/7], Step [20/134], Loss: 1.1561, Accuracy: 0.2500\n",
      "Epoch [5/7], Step [40/134], Loss: 1.0481, Accuracy: 0.4219\n",
      "Epoch [5/7], Step [60/134], Loss: 1.1216, Accuracy: 0.3750\n",
      "Epoch [5/7], Step [80/134], Loss: 1.0876, Accuracy: 0.3750\n",
      "Epoch [5/7], Step [100/134], Loss: 1.0950, Accuracy: 0.3750\n",
      "Epoch [5/7], Step [120/134], Loss: 1.1245, Accuracy: 0.3594\n",
      "**********************************************************************************************************\n",
      "VALIDATION FOR EPOCH 5/7 --> Average Loss: 1.0810, Average Accuracy: 0.3972\n",
      "**********************************************************************************************************\n",
      "Epoch [6/7], Step [20/134], Loss: 1.0607, Accuracy: 0.3906\n",
      "Epoch [6/7], Step [40/134], Loss: 1.0849, Accuracy: 0.3750\n",
      "Epoch [6/7], Step [60/134], Loss: 1.1057, Accuracy: 0.4375\n",
      "Epoch [6/7], Step [80/134], Loss: 1.1258, Accuracy: 0.3594\n",
      "Epoch [6/7], Step [100/134], Loss: 1.0753, Accuracy: 0.3438\n",
      "Epoch [6/7], Step [120/134], Loss: 1.0405, Accuracy: 0.3281\n",
      "**********************************************************************************************************\n",
      "VALIDATION FOR EPOCH 6/7 --> Average Loss: 1.0743, Average Accuracy: 0.3980\n",
      "**********************************************************************************************************\n",
      "Epoch [7/7], Step [20/134], Loss: 1.0366, Accuracy: 0.3750\n",
      "Epoch [7/7], Step [40/134], Loss: 1.0438, Accuracy: 0.4844\n",
      "Epoch [7/7], Step [60/134], Loss: 1.0408, Accuracy: 0.4219\n",
      "Epoch [7/7], Step [80/134], Loss: 1.0786, Accuracy: 0.5156\n",
      "Epoch [7/7], Step [100/134], Loss: 0.9904, Accuracy: 0.4688\n",
      "Epoch [7/7], Step [120/134], Loss: 1.1215, Accuracy: 0.2812\n",
      "**********************************************************************************************************\n",
      "VALIDATION FOR EPOCH 7/7 --> Average Loss: 1.0719, Average Accuracy: 0.3998\n",
      "**********************************************************************************************************\n"
     ]
    }
   ],
   "source": [
    "model_4_trained = Trainer(model=model_4, \n",
    "                        num_epochs=7, \n",
    "                        learning_rate=0.001)\n",
    "model_4_trained.train()"
   ]
  },
  {
   "cell_type": "code",
   "execution_count": 14,
   "metadata": {},
   "outputs": [
    {
     "name": "stdout",
     "output_type": "stream",
     "text": [
      "Average testing loss: 1.0378, Average testing accuracy: 41.35%\n"
     ]
    }
   ],
   "source": [
    "tester4 = Tester(model_4_trained.copyModel())"
   ]
  },
  {
   "cell_type": "markdown",
   "metadata": {},
   "source": [
    "### Model 5: No dropout, 256 units, 2 layers"
   ]
  },
  {
   "cell_type": "code",
   "execution_count": 15,
   "metadata": {},
   "outputs": [],
   "source": [
    "model_5 = Architecture(root='trees', \n",
    "                       train='train.txt', \n",
    "                       validation='dev.txt', \n",
    "                       test='test.txt',\n",
    "                       embeddings='glove.6B.300d.txt', \n",
    "                       hidden_dim=256, \n",
    "                       hidden_layers=2, \n",
    "                       output_dim=5, \n",
    "                       dropout=0)"
   ]
  },
  {
   "cell_type": "code",
   "execution_count": 16,
   "metadata": {},
   "outputs": [
    {
     "name": "stdout",
     "output_type": "stream",
     "text": [
      "Epoch [1/7], Step [20/134], Loss: 1.0584, Accuracy: 0.4062\n",
      "Epoch [1/7], Step [40/134], Loss: 1.0683, Accuracy: 0.3281\n",
      "Epoch [1/7], Step [60/134], Loss: 1.0596, Accuracy: 0.4062\n",
      "Epoch [1/7], Step [80/134], Loss: 1.0781, Accuracy: 0.4375\n",
      "Epoch [1/7], Step [100/134], Loss: 1.0378, Accuracy: 0.4375\n",
      "Epoch [1/7], Step [120/134], Loss: 1.0269, Accuracy: 0.3906\n",
      "**********************************************************************************************************\n",
      "VALIDATION FOR EPOCH 1/7 --> Average Loss: 1.0596, Average Accuracy: 0.4910\n",
      "**********************************************************************************************************\n",
      "Epoch [2/7], Step [20/134], Loss: 1.1268, Accuracy: 0.3594\n",
      "Epoch [2/7], Step [40/134], Loss: 1.0357, Accuracy: 0.4688\n",
      "Epoch [2/7], Step [60/134], Loss: 0.9796, Accuracy: 0.5000\n",
      "Epoch [2/7], Step [80/134], Loss: 1.1096, Accuracy: 0.5000\n",
      "Epoch [2/7], Step [100/134], Loss: 1.0090, Accuracy: 0.4219\n",
      "Epoch [2/7], Step [120/134], Loss: 1.1109, Accuracy: 0.3438\n",
      "**********************************************************************************************************\n",
      "VALIDATION FOR EPOCH 2/7 --> Average Loss: 1.0904, Average Accuracy: 0.3886\n",
      "**********************************************************************************************************\n",
      "Epoch [3/7], Step [20/134], Loss: 1.0125, Accuracy: 0.4375\n",
      "Epoch [3/7], Step [40/134], Loss: 1.0154, Accuracy: 0.4688\n",
      "Epoch [3/7], Step [60/134], Loss: 1.0567, Accuracy: 0.4844\n",
      "Epoch [3/7], Step [80/134], Loss: 1.0351, Accuracy: 0.4844\n",
      "Epoch [3/7], Step [100/134], Loss: 1.0055, Accuracy: 0.4688\n",
      "Epoch [3/7], Step [120/134], Loss: 1.0594, Accuracy: 0.4062\n",
      "**********************************************************************************************************\n",
      "VALIDATION FOR EPOCH 3/7 --> Average Loss: 1.0554, Average Accuracy: 0.4024\n",
      "**********************************************************************************************************\n",
      "Epoch [4/7], Step [20/134], Loss: 1.0237, Accuracy: 0.5156\n",
      "Epoch [4/7], Step [40/134], Loss: 1.0780, Accuracy: 0.3906\n",
      "Epoch [4/7], Step [60/134], Loss: 0.9855, Accuracy: 0.4375\n",
      "Epoch [4/7], Step [80/134], Loss: 1.0719, Accuracy: 0.4062\n",
      "Epoch [4/7], Step [100/134], Loss: 1.1004, Accuracy: 0.3906\n",
      "Epoch [4/7], Step [120/134], Loss: 1.0474, Accuracy: 0.4844\n",
      "**********************************************************************************************************\n",
      "VALIDATION FOR EPOCH 4/7 --> Average Loss: 1.0010, Average Accuracy: 0.5794\n",
      "**********************************************************************************************************\n",
      "Epoch [5/7], Step [20/134], Loss: 1.0998, Accuracy: 0.4844\n",
      "Epoch [5/7], Step [40/134], Loss: 0.9811, Accuracy: 0.4219\n",
      "Epoch [5/7], Step [60/134], Loss: 1.0072, Accuracy: 0.5000\n",
      "Epoch [5/7], Step [80/134], Loss: 1.0411, Accuracy: 0.5312\n",
      "Epoch [5/7], Step [100/134], Loss: 1.0170, Accuracy: 0.4531\n",
      "Epoch [5/7], Step [120/134], Loss: 1.0241, Accuracy: 0.5312\n",
      "**********************************************************************************************************\n",
      "VALIDATION FOR EPOCH 5/7 --> Average Loss: 1.0260, Average Accuracy: 0.4632\n",
      "**********************************************************************************************************\n",
      "Epoch [6/7], Step [20/134], Loss: 0.9491, Accuracy: 0.5469\n",
      "Epoch [6/7], Step [40/134], Loss: 1.0152, Accuracy: 0.5000\n",
      "Epoch [6/7], Step [60/134], Loss: 0.9372, Accuracy: 0.6094\n",
      "Epoch [6/7], Step [80/134], Loss: 1.0413, Accuracy: 0.4688\n",
      "Epoch [6/7], Step [100/134], Loss: 0.9542, Accuracy: 0.5938\n",
      "Epoch [6/7], Step [120/134], Loss: 0.9907, Accuracy: 0.5625\n",
      "**********************************************************************************************************\n",
      "VALIDATION FOR EPOCH 6/7 --> Average Loss: 1.0007, Average Accuracy: 0.5596\n",
      "**********************************************************************************************************\n",
      "Epoch [7/7], Step [20/134], Loss: 0.9209, Accuracy: 0.5625\n",
      "Epoch [7/7], Step [40/134], Loss: 0.9023, Accuracy: 0.6094\n",
      "Epoch [7/7], Step [60/134], Loss: 0.8068, Accuracy: 0.6719\n",
      "Epoch [7/7], Step [80/134], Loss: 0.7547, Accuracy: 0.7031\n",
      "Epoch [7/7], Step [100/134], Loss: 0.7253, Accuracy: 0.7656\n",
      "Epoch [7/7], Step [120/134], Loss: 0.8439, Accuracy: 0.5625\n",
      "**********************************************************************************************************\n",
      "VALIDATION FOR EPOCH 7/7 --> Average Loss: 0.8848, Average Accuracy: 0.6356\n",
      "**********************************************************************************************************\n"
     ]
    }
   ],
   "source": [
    "model_5_trained = Trainer(model=model_5, \n",
    "                        num_epochs=7, \n",
    "                        learning_rate=0.001)\n",
    "model_5_trained.train()"
   ]
  },
  {
   "cell_type": "code",
   "execution_count": 17,
   "metadata": {},
   "outputs": [
    {
     "name": "stdout",
     "output_type": "stream",
     "text": [
      "Average testing loss: 0.8170, Average testing accuracy: 67.44%\n"
     ]
    }
   ],
   "source": [
    "tester5 = Tester(model_5_trained.copyModel())"
   ]
  },
  {
   "cell_type": "markdown",
   "metadata": {},
   "source": [
    "### Model 6: 0.2 dropout, 256 units, 2 layers"
   ]
  },
  {
   "cell_type": "code",
   "execution_count": 18,
   "metadata": {},
   "outputs": [],
   "source": [
    "model_6 = Architecture(root='trees', \n",
    "                       train='train.txt', \n",
    "                       validation='dev.txt', \n",
    "                       test='test.txt',\n",
    "                       embeddings='glove.6B.300d.txt', \n",
    "                       hidden_dim=256, \n",
    "                       hidden_layers=2, \n",
    "                       output_dim=5, \n",
    "                       dropout=0.2)"
   ]
  },
  {
   "cell_type": "code",
   "execution_count": 19,
   "metadata": {},
   "outputs": [
    {
     "name": "stdout",
     "output_type": "stream",
     "text": [
      "Epoch [1/7], Step [20/134], Loss: 1.0687, Accuracy: 0.3594\n",
      "Epoch [1/7], Step [40/134], Loss: 1.0739, Accuracy: 0.4062\n",
      "Epoch [1/7], Step [60/134], Loss: 1.0541, Accuracy: 0.4062\n",
      "Epoch [1/7], Step [80/134], Loss: 1.0927, Accuracy: 0.3125\n",
      "Epoch [1/7], Step [100/134], Loss: 1.0328, Accuracy: 0.4531\n",
      "Epoch [1/7], Step [120/134], Loss: 1.0220, Accuracy: 0.5000\n",
      "**********************************************************************************************************\n",
      "VALIDATION FOR EPOCH 1/7 --> Average Loss: 1.0545, Average Accuracy: 0.4910\n",
      "**********************************************************************************************************\n",
      "Epoch [2/7], Step [20/134], Loss: 1.0968, Accuracy: 0.3594\n",
      "Epoch [2/7], Step [40/134], Loss: 1.0192, Accuracy: 0.4375\n",
      "Epoch [2/7], Step [60/134], Loss: 0.9873, Accuracy: 0.5000\n",
      "Epoch [2/7], Step [80/134], Loss: 1.1043, Accuracy: 0.5000\n",
      "Epoch [2/7], Step [100/134], Loss: 1.0181, Accuracy: 0.4844\n",
      "Epoch [2/7], Step [120/134], Loss: 1.1008, Accuracy: 0.3438\n",
      "**********************************************************************************************************\n",
      "VALIDATION FOR EPOCH 2/7 --> Average Loss: 1.0802, Average Accuracy: 0.3886\n",
      "**********************************************************************************************************\n",
      "Epoch [3/7], Step [20/134], Loss: 1.0145, Accuracy: 0.3438\n",
      "Epoch [3/7], Step [40/134], Loss: 1.0120, Accuracy: 0.4531\n",
      "Epoch [3/7], Step [60/134], Loss: 1.0645, Accuracy: 0.4219\n",
      "Epoch [3/7], Step [80/134], Loss: 1.0511, Accuracy: 0.3906\n",
      "Epoch [3/7], Step [100/134], Loss: 1.0165, Accuracy: 0.4531\n",
      "Epoch [3/7], Step [120/134], Loss: 1.0578, Accuracy: 0.3906\n",
      "**********************************************************************************************************\n",
      "VALIDATION FOR EPOCH 3/7 --> Average Loss: 1.0565, Average Accuracy: 0.4024\n",
      "**********************************************************************************************************\n",
      "Epoch [4/7], Step [20/134], Loss: 1.0341, Accuracy: 0.5156\n",
      "Epoch [4/7], Step [40/134], Loss: 1.0747, Accuracy: 0.4219\n",
      "Epoch [4/7], Step [60/134], Loss: 0.9793, Accuracy: 0.5000\n",
      "Epoch [4/7], Step [80/134], Loss: 1.0886, Accuracy: 0.3438\n",
      "Epoch [4/7], Step [100/134], Loss: 1.0900, Accuracy: 0.4062\n",
      "Epoch [4/7], Step [120/134], Loss: 1.0343, Accuracy: 0.4688\n",
      "**********************************************************************************************************\n",
      "VALIDATION FOR EPOCH 4/7 --> Average Loss: 1.0699, Average Accuracy: 0.4058\n",
      "**********************************************************************************************************\n",
      "Epoch [5/7], Step [20/134], Loss: 1.1323, Accuracy: 0.3125\n",
      "Epoch [5/7], Step [40/134], Loss: 1.0185, Accuracy: 0.4219\n",
      "Epoch [5/7], Step [60/134], Loss: 1.1156, Accuracy: 0.3906\n",
      "Epoch [5/7], Step [80/134], Loss: 1.0917, Accuracy: 0.3438\n",
      "Epoch [5/7], Step [100/134], Loss: 1.1053, Accuracy: 0.3594\n",
      "Epoch [5/7], Step [120/134], Loss: 1.0880, Accuracy: 0.3594\n",
      "**********************************************************************************************************\n",
      "VALIDATION FOR EPOCH 5/7 --> Average Loss: 1.0719, Average Accuracy: 0.4067\n",
      "**********************************************************************************************************\n",
      "Epoch [6/7], Step [20/134], Loss: 1.0593, Accuracy: 0.4375\n",
      "Epoch [6/7], Step [40/134], Loss: 1.0925, Accuracy: 0.3594\n",
      "Epoch [6/7], Step [60/134], Loss: 1.0960, Accuracy: 0.4062\n",
      "Epoch [6/7], Step [80/134], Loss: 1.1370, Accuracy: 0.3594\n",
      "Epoch [6/7], Step [100/134], Loss: 1.0754, Accuracy: 0.3281\n",
      "Epoch [6/7], Step [120/134], Loss: 1.0338, Accuracy: 0.5312\n",
      "**********************************************************************************************************\n",
      "VALIDATION FOR EPOCH 6/7 --> Average Loss: 1.0647, Average Accuracy: 0.4119\n",
      "**********************************************************************************************************\n",
      "Epoch [7/7], Step [20/134], Loss: 1.0400, Accuracy: 0.3281\n",
      "Epoch [7/7], Step [40/134], Loss: 1.0423, Accuracy: 0.5469\n",
      "Epoch [7/7], Step [60/134], Loss: 1.0376, Accuracy: 0.3906\n",
      "Epoch [7/7], Step [80/134], Loss: 1.0856, Accuracy: 0.5625\n",
      "Epoch [7/7], Step [100/134], Loss: 0.9899, Accuracy: 0.4688\n",
      "Epoch [7/7], Step [120/134], Loss: 1.1307, Accuracy: 0.2500\n",
      "**********************************************************************************************************\n",
      "VALIDATION FOR EPOCH 7/7 --> Average Loss: 1.0589, Average Accuracy: 0.4041\n",
      "**********************************************************************************************************\n"
     ]
    }
   ],
   "source": [
    "model_6_trained = Trainer(model=model_6, \n",
    "                        num_epochs=7, \n",
    "                        learning_rate=0.001)\n",
    "model_6_trained.train()"
   ]
  },
  {
   "cell_type": "code",
   "execution_count": 20,
   "metadata": {},
   "outputs": [
    {
     "name": "stdout",
     "output_type": "stream",
     "text": [
      "Average testing loss: 1.0371, Average testing accuracy: 41.17%\n"
     ]
    }
   ],
   "source": [
    "tester6 = Tester(model_6_trained.copyModel())"
   ]
  },
  {
   "cell_type": "markdown",
   "metadata": {},
   "source": [
    "### Model 7: No dropout, 512 units, 2 layers"
   ]
  },
  {
   "cell_type": "code",
   "execution_count": 21,
   "metadata": {},
   "outputs": [],
   "source": [
    "model_7 = Architecture(root='trees', \n",
    "                       train='train.txt', \n",
    "                       validation='dev.txt', \n",
    "                       test='test.txt',\n",
    "                       embeddings='glove.6B.300d.txt', \n",
    "                       hidden_dim=512, \n",
    "                       hidden_layers=2, \n",
    "                       output_dim=5, \n",
    "                       dropout=0)"
   ]
  },
  {
   "cell_type": "code",
   "execution_count": 22,
   "metadata": {},
   "outputs": [
    {
     "name": "stdout",
     "output_type": "stream",
     "text": [
      "Epoch [1/7], Step [20/134], Loss: 1.0484, Accuracy: 0.4062\n",
      "Epoch [1/7], Step [40/134], Loss: 1.0502, Accuracy: 0.4844\n",
      "Epoch [1/7], Step [60/134], Loss: 1.0585, Accuracy: 0.4062\n",
      "Epoch [1/7], Step [80/134], Loss: 1.0767, Accuracy: 0.4219\n",
      "Epoch [1/7], Step [100/134], Loss: 1.0393, Accuracy: 0.3750\n",
      "Epoch [1/7], Step [120/134], Loss: 1.0310, Accuracy: 0.3906\n",
      "**********************************************************************************************************\n",
      "VALIDATION FOR EPOCH 1/7 --> Average Loss: 1.0636, Average Accuracy: 0.4745\n",
      "**********************************************************************************************************\n",
      "Epoch [2/7], Step [20/134], Loss: 1.1273, Accuracy: 0.3594\n",
      "Epoch [2/7], Step [40/134], Loss: 1.0357, Accuracy: 0.4688\n",
      "Epoch [2/7], Step [60/134], Loss: 0.9804, Accuracy: 0.5000\n",
      "Epoch [2/7], Step [80/134], Loss: 1.1077, Accuracy: 0.5000\n",
      "Epoch [2/7], Step [100/134], Loss: 1.0064, Accuracy: 0.4219\n",
      "Epoch [2/7], Step [120/134], Loss: 1.1144, Accuracy: 0.3438\n",
      "**********************************************************************************************************\n",
      "VALIDATION FOR EPOCH 2/7 --> Average Loss: 1.0901, Average Accuracy: 0.3886\n",
      "**********************************************************************************************************\n",
      "Epoch [3/7], Step [20/134], Loss: 1.0082, Accuracy: 0.4375\n",
      "Epoch [3/7], Step [40/134], Loss: 1.0176, Accuracy: 0.4688\n",
      "Epoch [3/7], Step [60/134], Loss: 1.0038, Accuracy: 0.5469\n",
      "Epoch [3/7], Step [80/134], Loss: 1.0292, Accuracy: 0.5000\n",
      "Epoch [3/7], Step [100/134], Loss: 0.9977, Accuracy: 0.4219\n",
      "Epoch [3/7], Step [120/134], Loss: 1.0606, Accuracy: 0.3906\n",
      "**********************************************************************************************************\n",
      "VALIDATION FOR EPOCH 3/7 --> Average Loss: 1.0605, Average Accuracy: 0.4111\n",
      "**********************************************************************************************************\n",
      "Epoch [4/7], Step [20/134], Loss: 1.0265, Accuracy: 0.5000\n",
      "Epoch [4/7], Step [40/134], Loss: 1.0697, Accuracy: 0.3906\n",
      "Epoch [4/7], Step [60/134], Loss: 0.9881, Accuracy: 0.4375\n",
      "Epoch [4/7], Step [80/134], Loss: 1.0750, Accuracy: 0.4375\n",
      "Epoch [4/7], Step [100/134], Loss: 1.1240, Accuracy: 0.3906\n",
      "Epoch [4/7], Step [120/134], Loss: 1.0480, Accuracy: 0.4844\n",
      "**********************************************************************************************************\n",
      "VALIDATION FOR EPOCH 4/7 --> Average Loss: 1.0643, Average Accuracy: 0.4050\n",
      "**********************************************************************************************************\n",
      "Epoch [5/7], Step [20/134], Loss: 1.1337, Accuracy: 0.2969\n",
      "Epoch [5/7], Step [40/134], Loss: 1.0101, Accuracy: 0.4219\n",
      "Epoch [5/7], Step [60/134], Loss: 1.0569, Accuracy: 0.4844\n",
      "Epoch [5/7], Step [80/134], Loss: 0.8702, Accuracy: 0.6250\n",
      "Epoch [5/7], Step [100/134], Loss: 0.9014, Accuracy: 0.5938\n",
      "Epoch [5/7], Step [120/134], Loss: 0.9208, Accuracy: 0.5938\n",
      "**********************************************************************************************************\n",
      "VALIDATION FOR EPOCH 5/7 --> Average Loss: 0.8668, Average Accuracy: 0.6296\n",
      "**********************************************************************************************************\n",
      "Epoch [6/7], Step [20/134], Loss: 0.6085, Accuracy: 0.7344\n",
      "Epoch [6/7], Step [40/134], Loss: 0.7664, Accuracy: 0.6562\n",
      "Epoch [6/7], Step [60/134], Loss: 0.6499, Accuracy: 0.6562\n",
      "Epoch [6/7], Step [80/134], Loss: 0.8002, Accuracy: 0.6094\n",
      "Epoch [6/7], Step [100/134], Loss: 0.8965, Accuracy: 0.6406\n",
      "Epoch [6/7], Step [120/134], Loss: 0.6752, Accuracy: 0.7031\n",
      "**********************************************************************************************************\n",
      "VALIDATION FOR EPOCH 6/7 --> Average Loss: 0.9245, Average Accuracy: 0.6175\n",
      "**********************************************************************************************************\n",
      "Epoch [7/7], Step [20/134], Loss: 0.4052, Accuracy: 0.8281\n",
      "Epoch [7/7], Step [40/134], Loss: 0.5345, Accuracy: 0.7500\n",
      "Epoch [7/7], Step [60/134], Loss: 0.3698, Accuracy: 0.8438\n",
      "Epoch [7/7], Step [80/134], Loss: 0.3825, Accuracy: 0.8438\n",
      "Epoch [7/7], Step [100/134], Loss: 0.4355, Accuracy: 0.8438\n",
      "Epoch [7/7], Step [120/134], Loss: 0.6284, Accuracy: 0.7188\n",
      "**********************************************************************************************************\n",
      "VALIDATION FOR EPOCH 7/7 --> Average Loss: 1.1350, Average Accuracy: 0.6018\n",
      "**********************************************************************************************************\n"
     ]
    }
   ],
   "source": [
    "model_7_trained = Trainer(model=model_7, \n",
    "                        num_epochs=7, \n",
    "                        learning_rate=0.001)\n",
    "model_7_trained.train()"
   ]
  },
  {
   "cell_type": "code",
   "execution_count": 23,
   "metadata": {},
   "outputs": [
    {
     "name": "stdout",
     "output_type": "stream",
     "text": [
      "Average testing loss: 1.0115, Average testing accuracy: 62.25%\n"
     ]
    }
   ],
   "source": [
    "tester7 = Tester(model_7_trained.copyModel())"
   ]
  },
  {
   "cell_type": "markdown",
   "metadata": {},
   "source": [
    "### Model 8: 0.2 dropout, 512 units, 2 layers"
   ]
  },
  {
   "cell_type": "code",
   "execution_count": 24,
   "metadata": {},
   "outputs": [],
   "source": [
    "model_8 = Architecture(root='trees', \n",
    "                       train='train.txt', \n",
    "                       validation='dev.txt', \n",
    "                       test='test.txt',\n",
    "                       embeddings='glove.6B.300d.txt', \n",
    "                       hidden_dim=512, \n",
    "                       hidden_layers=2, \n",
    "                       output_dim=5, \n",
    "                       dropout=0.2)"
   ]
  },
  {
   "cell_type": "code",
   "execution_count": 25,
   "metadata": {},
   "outputs": [
    {
     "name": "stdout",
     "output_type": "stream",
     "text": [
      "Epoch [1/7], Step [20/134], Loss: 1.0535, Accuracy: 0.4062\n",
      "Epoch [1/7], Step [40/134], Loss: 1.0813, Accuracy: 0.3281\n",
      "Epoch [1/7], Step [60/134], Loss: 1.0565, Accuracy: 0.4062\n",
      "Epoch [1/7], Step [80/134], Loss: 1.0981, Accuracy: 0.3281\n",
      "Epoch [1/7], Step [100/134], Loss: 1.0347, Accuracy: 0.4844\n",
      "Epoch [1/7], Step [120/134], Loss: 1.0289, Accuracy: 0.4531\n",
      "**********************************************************************************************************\n",
      "VALIDATION FOR EPOCH 1/7 --> Average Loss: 1.0528, Average Accuracy: 0.5222\n",
      "**********************************************************************************************************\n",
      "Epoch [2/7], Step [20/134], Loss: 1.1180, Accuracy: 0.3594\n",
      "Epoch [2/7], Step [40/134], Loss: 1.0324, Accuracy: 0.4688\n",
      "Epoch [2/7], Step [60/134], Loss: 0.9883, Accuracy: 0.5000\n",
      "Epoch [2/7], Step [80/134], Loss: 1.2104, Accuracy: 0.2188\n",
      "Epoch [2/7], Step [100/134], Loss: 0.9994, Accuracy: 0.4688\n",
      "Epoch [2/7], Step [120/134], Loss: 1.1187, Accuracy: 0.3438\n",
      "**********************************************************************************************************\n",
      "VALIDATION FOR EPOCH 2/7 --> Average Loss: 1.0532, Average Accuracy: 0.5482\n",
      "**********************************************************************************************************\n",
      "Epoch [3/7], Step [20/134], Loss: 1.0000, Accuracy: 0.5312\n",
      "Epoch [3/7], Step [40/134], Loss: 1.0129, Accuracy: 0.4688\n",
      "Epoch [3/7], Step [60/134], Loss: 1.0660, Accuracy: 0.3438\n",
      "Epoch [3/7], Step [80/134], Loss: 1.0472, Accuracy: 0.4688\n",
      "Epoch [3/7], Step [100/134], Loss: 1.0077, Accuracy: 0.4688\n",
      "Epoch [3/7], Step [120/134], Loss: 1.0619, Accuracy: 0.4062\n",
      "**********************************************************************************************************\n",
      "VALIDATION FOR EPOCH 3/7 --> Average Loss: 1.0586, Average Accuracy: 0.4024\n",
      "**********************************************************************************************************\n",
      "Epoch [4/7], Step [20/134], Loss: 1.0239, Accuracy: 0.5156\n",
      "Epoch [4/7], Step [40/134], Loss: 1.0757, Accuracy: 0.4531\n",
      "Epoch [4/7], Step [60/134], Loss: 0.9876, Accuracy: 0.3750\n",
      "Epoch [4/7], Step [80/134], Loss: 1.0930, Accuracy: 0.4062\n",
      "Epoch [4/7], Step [100/134], Loss: 1.1113, Accuracy: 0.3906\n",
      "Epoch [4/7], Step [120/134], Loss: 1.0541, Accuracy: 0.4844\n",
      "**********************************************************************************************************\n",
      "VALIDATION FOR EPOCH 4/7 --> Average Loss: 1.0544, Average Accuracy: 0.4050\n",
      "**********************************************************************************************************\n",
      "Epoch [5/7], Step [20/134], Loss: 1.1364, Accuracy: 0.3125\n",
      "Epoch [5/7], Step [40/134], Loss: 1.0415, Accuracy: 0.4219\n",
      "Epoch [5/7], Step [60/134], Loss: 1.1097, Accuracy: 0.4219\n",
      "Epoch [5/7], Step [80/134], Loss: 1.0448, Accuracy: 0.5469\n",
      "Epoch [5/7], Step [100/134], Loss: 1.0964, Accuracy: 0.3594\n",
      "Epoch [5/7], Step [120/134], Loss: 1.0965, Accuracy: 0.3750\n",
      "**********************************************************************************************************\n",
      "VALIDATION FOR EPOCH 5/7 --> Average Loss: 1.0629, Average Accuracy: 0.4058\n",
      "**********************************************************************************************************\n",
      "Epoch [6/7], Step [20/134], Loss: 1.0603, Accuracy: 0.4062\n",
      "Epoch [6/7], Step [40/134], Loss: 1.0992, Accuracy: 0.3594\n",
      "Epoch [6/7], Step [60/134], Loss: 1.0993, Accuracy: 0.4062\n",
      "Epoch [6/7], Step [80/134], Loss: 1.1252, Accuracy: 0.3594\n",
      "Epoch [6/7], Step [100/134], Loss: 1.0772, Accuracy: 0.3750\n",
      "Epoch [6/7], Step [120/134], Loss: 1.0391, Accuracy: 0.4375\n",
      "**********************************************************************************************************\n",
      "VALIDATION FOR EPOCH 6/7 --> Average Loss: 1.0601, Average Accuracy: 0.4058\n",
      "**********************************************************************************************************\n",
      "Epoch [7/7], Step [20/134], Loss: 1.0296, Accuracy: 0.4375\n",
      "Epoch [7/7], Step [40/134], Loss: 1.0332, Accuracy: 0.5000\n",
      "Epoch [7/7], Step [60/134], Loss: 1.0395, Accuracy: 0.4531\n",
      "Epoch [7/7], Step [80/134], Loss: 1.0597, Accuracy: 0.5312\n",
      "Epoch [7/7], Step [100/134], Loss: 0.9964, Accuracy: 0.4688\n",
      "Epoch [7/7], Step [120/134], Loss: 1.1102, Accuracy: 0.3438\n",
      "**********************************************************************************************************\n",
      "VALIDATION FOR EPOCH 7/7 --> Average Loss: 1.0809, Average Accuracy: 0.4058\n",
      "**********************************************************************************************************\n"
     ]
    }
   ],
   "source": [
    "model_8_trained = Trainer(model=model_8, \n",
    "                        num_epochs=7, \n",
    "                        learning_rate=0.001)\n",
    "model_8_trained.train()"
   ]
  },
  {
   "cell_type": "code",
   "execution_count": 26,
   "metadata": {},
   "outputs": [
    {
     "name": "stdout",
     "output_type": "stream",
     "text": [
      "Average testing loss: 1.0516, Average testing accuracy: 41.04%\n"
     ]
    }
   ],
   "source": [
    "tester8 = Tester(model_8_trained.copyModel())"
   ]
  }
 ],
 "metadata": {
  "kernelspec": {
   "display_name": "Python 3",
   "language": "python",
   "name": "python3"
  },
  "language_info": {
   "codemirror_mode": {
    "name": "ipython",
    "version": 3
   },
   "file_extension": ".py",
   "mimetype": "text/x-python",
   "name": "python",
   "nbconvert_exporter": "python",
   "pygments_lexer": "ipython3",
   "version": "3.7.6"
  }
 },
 "nbformat": 4,
 "nbformat_minor": 4
}
